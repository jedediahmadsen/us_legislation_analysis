{
 "cells": [
  {
   "cell_type": "code",
   "execution_count": 12,
   "id": "004dbc68-de57-4b6e-8d35-46aaa599a621",
   "metadata": {},
   "outputs": [],
   "source": [
    "import os\n",
    "import pandas as pd\n",
    "import re\n",
    "import plotly.express as px\n",
    "import matplotlib.pyplot as plt\n",
    "import numpy as np\n",
    "import textract\n",
    "from PyPDF2 import PdfReader"
   ]
  },
  {
   "cell_type": "code",
   "execution_count": 28,
   "id": "23dab12f",
   "metadata": {},
   "outputs": [
    {
     "data": {
      "text/html": [
       "<div>\n",
       "<style scoped>\n",
       "    .dataframe tbody tr th:only-of-type {\n",
       "        vertical-align: middle;\n",
       "    }\n",
       "\n",
       "    .dataframe tbody tr th {\n",
       "        vertical-align: top;\n",
       "    }\n",
       "\n",
       "    .dataframe thead th {\n",
       "        text-align: right;\n",
       "    }\n",
       "</style>\n",
       "<table border=\"1\" class=\"dataframe\">\n",
       "  <thead>\n",
       "    <tr style=\"text-align: right;\">\n",
       "      <th></th>\n",
       "      <th>Unnamed: 0</th>\n",
       "      <th>bill_id</th>\n",
       "      <th>session_id</th>\n",
       "      <th>bill_number</th>\n",
       "      <th>status</th>\n",
       "      <th>status_desc</th>\n",
       "      <th>status_date</th>\n",
       "      <th>last_action_date</th>\n",
       "      <th>State</th>\n",
       "      <th>document_id</th>\n",
       "      <th>document_size</th>\n",
       "      <th>document_desc</th>\n",
       "    </tr>\n",
       "  </thead>\n",
       "  <tbody>\n",
       "    <tr>\n",
       "      <th>0</th>\n",
       "      <td>0</td>\n",
       "      <td>878191</td>\n",
       "      <td>1228</td>\n",
       "      <td>HB1001</td>\n",
       "      <td>4</td>\n",
       "      <td>Passed</td>\n",
       "      <td>2016-05-23</td>\n",
       "      <td>2016-05-23</td>\n",
       "      <td>AR</td>\n",
       "      <td>1407813.0</td>\n",
       "      <td>158869.0</td>\n",
       "      <td>Draft</td>\n",
       "    </tr>\n",
       "    <tr>\n",
       "      <th>1</th>\n",
       "      <td>1</td>\n",
       "      <td>878191</td>\n",
       "      <td>1228</td>\n",
       "      <td>HB1001</td>\n",
       "      <td>4</td>\n",
       "      <td>Passed</td>\n",
       "      <td>2016-05-23</td>\n",
       "      <td>2016-05-23</td>\n",
       "      <td>AR</td>\n",
       "      <td>1411411.0</td>\n",
       "      <td>115092.0</td>\n",
       "      <td>Chaptered</td>\n",
       "    </tr>\n",
       "    <tr>\n",
       "      <th>2</th>\n",
       "      <td>2</td>\n",
       "      <td>878268</td>\n",
       "      <td>1228</td>\n",
       "      <td>HB1002</td>\n",
       "      <td>4</td>\n",
       "      <td>Passed</td>\n",
       "      <td>2016-05-23</td>\n",
       "      <td>2016-05-23</td>\n",
       "      <td>AR</td>\n",
       "      <td>1408125.0</td>\n",
       "      <td>210390.0</td>\n",
       "      <td>Draft</td>\n",
       "    </tr>\n",
       "    <tr>\n",
       "      <th>3</th>\n",
       "      <td>3</td>\n",
       "      <td>878268</td>\n",
       "      <td>1228</td>\n",
       "      <td>HB1002</td>\n",
       "      <td>4</td>\n",
       "      <td>Passed</td>\n",
       "      <td>2016-05-23</td>\n",
       "      <td>2016-05-23</td>\n",
       "      <td>AR</td>\n",
       "      <td>1411407.0</td>\n",
       "      <td>166810.0</td>\n",
       "      <td>Chaptered</td>\n",
       "    </tr>\n",
       "    <tr>\n",
       "      <th>4</th>\n",
       "      <td>4</td>\n",
       "      <td>878297</td>\n",
       "      <td>1228</td>\n",
       "      <td>HB1003</td>\n",
       "      <td>4</td>\n",
       "      <td>Passed</td>\n",
       "      <td>2016-05-23</td>\n",
       "      <td>2016-05-23</td>\n",
       "      <td>AR</td>\n",
       "      <td>1408149.0</td>\n",
       "      <td>159200.0</td>\n",
       "      <td>Draft</td>\n",
       "    </tr>\n",
       "  </tbody>\n",
       "</table>\n",
       "</div>"
      ],
      "text/plain": [
       "   Unnamed: 0  bill_id  session_id bill_number  status status_desc  \\\n",
       "0           0   878191        1228      HB1001       4      Passed   \n",
       "1           1   878191        1228      HB1001       4      Passed   \n",
       "2           2   878268        1228      HB1002       4      Passed   \n",
       "3           3   878268        1228      HB1002       4      Passed   \n",
       "4           4   878297        1228      HB1003       4      Passed   \n",
       "\n",
       "  status_date last_action_date State  document_id  document_size document_desc  \n",
       "0  2016-05-23       2016-05-23    AR    1407813.0       158869.0         Draft  \n",
       "1  2016-05-23       2016-05-23    AR    1411411.0       115092.0     Chaptered  \n",
       "2  2016-05-23       2016-05-23    AR    1408125.0       210390.0         Draft  \n",
       "3  2016-05-23       2016-05-23    AR    1411407.0       166810.0     Chaptered  \n",
       "4  2016-05-23       2016-05-23    AR    1408149.0       159200.0         Draft  "
      ]
     },
     "execution_count": 28,
     "metadata": {},
     "output_type": "execute_result"
    }
   ],
   "source": [
    "df = pd.read_csv(\"../data/fullset.csv\")\n",
    "df.head()"
   ]
  },
  {
   "cell_type": "code",
   "execution_count": 29,
   "id": "1d057754",
   "metadata": {},
   "outputs": [
    {
     "data": {
      "text/plain": [
       "(425084, 12)"
      ]
     },
     "execution_count": 29,
     "metadata": {},
     "output_type": "execute_result"
    }
   ],
   "source": [
    "df_passed = df[df[\"status_desc\"]==\"Passed\"]\n",
    "bill_id_filtered = df_passed[df_passed[\"document_desc\"] != \"Draft\"]\n",
    "bill_id_drop_dc = bill_id_filtered[bill_id_filtered[\"State\"] != \"DC\"]\n",
    "bill_id_uniques = bill_id_drop_dc.drop_duplicates(subset=\"bill_id\")\n",
    "bill_id_uniques.shape"
   ]
  },
  {
   "cell_type": "code",
   "execution_count": null,
   "id": "869db3a9",
   "metadata": {},
   "outputs": [],
   "source": [
    "# Assuming data is your dataset or series\n",
    "bins = [0, 10783, 34503, 97436, 1000000, 249303177]  # Example data based on quartile values\n",
    "\n",
    "# Define bin labels (optional)\n",
    "bin_labels = [\"Small\", \"Medium\", \"Large\", \"Extra-Large\", \"Megabill\"]\n",
    "\n",
    "\n",
    "# Add a column named to slice the data into the bins\n",
    "bill_id_uniques[\"bill_sizes\"] = pd.cut(bill_id_uniques[\"document_size\"], bins, labels=bin_labels)"
   ]
  },
  {
   "cell_type": "code",
   "execution_count": null,
   "id": "79dc0b57",
   "metadata": {},
   "outputs": [],
   "source": [
    "bill_sums = bill_id_uniques.groupby(\"bill_sizes\")[\"document_size\"].sum().reset_index()\n",
    "px.bar(bill_sums, x=\"bill_sizes\", y=\"document_size\")"
   ]
  },
  {
   "cell_type": "code",
   "execution_count": null,
   "id": "82d2f4b5",
   "metadata": {},
   "outputs": [],
   "source": [
    "bill_counts = bill_id_uniques.groupby(\"bill_sizes\")[\"document_size\"].count().reset_index()\n",
    "px.bar(bill_counts, x=\"bill_sizes\", y=\"document_size\")"
   ]
  },
  {
   "cell_type": "code",
   "execution_count": null,
   "id": "faa8d237",
   "metadata": {},
   "outputs": [],
   "source": [
    "# Group by 'states' and 'bill_size', then count occurrences\n",
    "grouped_states = bill_id_uniques.groupby(['State', 'bill_sizes']).size().reset_index(name='count')\n",
    "\n",
    "fig = px.bar(grouped_states, x='State', y='count', color='bill_sizes', barmode='stack',\n",
    "             title='Total Number of Bills Passed per State',\n",
    "             labels={'State': 'State', 'count': 'Total Count', 'bill_sizes': 'Bill Size'})\n",
    "\n",
    "fig.show()"
   ]
  },
  {
   "cell_type": "code",
   "execution_count": null,
   "id": "aecf6d73",
   "metadata": {},
   "outputs": [],
   "source": [
    "bill_id_uniques[\"bill_sizes\"].value_counts()"
   ]
  },
  {
   "cell_type": "code",
   "execution_count": null,
   "id": "83e146d4",
   "metadata": {},
   "outputs": [],
   "source": [
    "bill_sums = bill_id_uniques.groupby(\"bill_sizes\")[\"document_size\"].sum().reset_index()\n",
    "\n",
    "\n",
    "# Group by 'states' and 'bill_size', then sum sizes\n",
    "grouped_states_sums = bill_id_uniques.groupby(['State', 'bill_sizes'])[\"document_size\"].sum().reset_index(name='Size')\n",
    "\n",
    "fig2 = px.bar(grouped_states_sums, x='State', y='Size', color='bill_sizes', barmode='stack',\n",
    "             title='Total Amount of Law Passed per State',\n",
    "             labels={'State': 'State', 'Size': 'Total Amount of Law', 'bill_sizes': 'Bill Size'})\n",
    "\n",
    "fig2.show()"
   ]
  },
  {
   "cell_type": "code",
   "execution_count": null,
   "id": "a05df72f",
   "metadata": {},
   "outputs": [],
   "source": [
    "biguns = df[df[\"document_size\"] > 1000000]\n",
    "biguns_filterd = biguns.drop_duplicates(subset=\"bill_id\")\n",
    "biguns_nodc = biguns[biguns[\"State\"] != \"DC\"]\n",
    "biguns_nodc .sort_values(\"document_size\", ascending=False, inplace=True)\n",
    "biguns_nodc.head(50)"
   ]
  },
  {
   "cell_type": "code",
   "execution_count": 11,
   "id": "ac5256d1",
   "metadata": {},
   "outputs": [
    {
     "data": {
      "text/plain": [
       "1585658"
      ]
     },
     "execution_count": 11,
     "metadata": {},
     "output_type": "execute_result"
    }
   ],
   "source": [
    "text = textract.process('test.pdf')\n",
    "len(text)"
   ]
  },
  {
   "cell_type": "code",
   "execution_count": 7,
   "id": "7914056c",
   "metadata": {},
   "outputs": [],
   "source": [
    "len(text)"
   ]
  },
  {
   "cell_type": "code",
   "execution_count": 10,
   "id": "1f9cc008",
   "metadata": {},
   "outputs": [
    {
     "name": "stdout",
     "output_type": "stream",
     "text": [
      "b'    \\n\\nGeneral Assembly \\n\\n \\n\\nFebruary Session, 2022 \\n\\n \\n\\nBill No. 5506  \\nLCO No. 6176 \\n\\n \\n \\nReferred '\n"
     ]
    }
   ],
   "source": [
    "print(string[0:5])"
   ]
  },
  {
   "cell_type": "code",
   "execution_count": 27,
   "id": "e586472e",
   "metadata": {},
   "outputs": [
    {
     "name": "stdout",
     "output_type": "stream",
     "text": [
      "673\n"
     ]
    }
   ],
   "source": [
    "reader = PdfReader(\"test.pdf\")\n",
    "number_of_pages = len(reader.pages)\n",
    "\n",
    "# text3 = \"\"\n",
    "# for pagenum in range(number_of_pages):\n",
    "#     page = reader.pages[pagenum]\n",
    "#     text3 += page.extract_text(page)\n",
    "print(number_of_pages)\n",
    "\n"
   ]
  },
  {
   "cell_type": "code",
   "execution_count": 18,
   "id": "ee507521",
   "metadata": {},
   "outputs": [
    {
     "data": {
      "text/plain": [
       "'    \\n \\nLCO No. 6176    1 of 673 \\n General Assembly   Bill No.  5506   \\nFebruary Session, 2022   LCO No. 6176  \\n \\n \\nReferred to Committee on  No Committee   \\n  \\nIntroduced by:   \\nREP. RITTER M., 1st Dist.  \\nSEN. LOONEY, 11th Dist.  \\nREP. ROJAS, 9th Dist.  \\nSEN. DUFF, 25th Dist.  \\n  \\n \\n \\n \\n \\nAN ACT ADJUSTING THE STATE BUDGET FOR THE BIENNIUM \\nENDING JUNE 30, 2023, CONCERNING PROVISIONS RELATED TO \\nREVENUE, SCHOOL CONSTRUCTION AND OTHER ITEMS TO \\nIMPLEMENT THE STATE BUDGET AND AUTHORIZING AND \\nADJUSTING BONDS OF THE STATE.  \\nBe it enacted by the Senate and House of Representatives in General \\nAssembly convened:  \\n \\nSection 1. ( Effective July 1, 2022 ) The amounts appropriated for the 1 \\nfiscal year ending June 30, 2023, in section 1 of special act 21 -15, 2 \\nregarding the GENERAL FUND are amended to read as follows:  3 \\nT1   2022 -2023   \\nT2  LEGISLATIVE    \\nT3     \\nT4  LEGISLATIVE MANAGEMENT    \\nT5  Personal Services  [52,173,549 ] 52,773,549  \\nT6  Other Expenses  [16,559,400 ] 16,909,400  \\nT7  Equipment  1,456,000   '"
      ]
     },
     "execution_count": 18,
     "metadata": {},
     "output_type": "execute_result"
    }
   ],
   "source": [
    "text3"
   ]
  },
  {
   "cell_type": "code",
   "execution_count": null,
   "id": "217b490a",
   "metadata": {},
   "outputs": [],
   "source": []
  }
 ],
 "metadata": {
  "kernelspec": {
   "display_name": "Python 3 (ipykernel)",
   "language": "python",
   "name": "python3"
  },
  "language_info": {
   "codemirror_mode": {
    "name": "ipython",
    "version": 3
   },
   "file_extension": ".py",
   "mimetype": "text/x-python",
   "name": "python",
   "nbconvert_exporter": "python",
   "pygments_lexer": "ipython3",
   "version": "3.10.13"
  }
 },
 "nbformat": 4,
 "nbformat_minor": 5
}
