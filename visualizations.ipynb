{
 "cells": [
  {
   "cell_type": "code",
   "execution_count": null,
   "id": "dde66036-6688-4285-babd-cf671e75ecfc",
   "metadata": {},
   "outputs": [],
   "source": [
    "import os\n",
    "import pandas as pd\n",
    "import re\n",
    "import plotly.express as px\n",
    "import matplotlib.pyplot as plt\n",
    "import numpy as np"
   ]
  },
  {
   "cell_type": "code",
   "execution_count": null,
   "id": "004dbc68-de57-4b6e-8d35-46aaa599a621",
   "metadata": {},
   "outputs": [],
   "source": [
    "df = pd.read_csv(\"../data/fullset.csv\")\n"
   ]
  },
  {
   "cell_type": "code",
   "execution_count": null,
   "id": "e55dfc0b",
   "metadata": {},
   "outputs": [],
   "source": [
    "df.head()"
   ]
  },
  {
   "cell_type": "code",
   "execution_count": null,
   "id": "50e3bf29",
   "metadata": {},
   "outputs": [],
   "source": [
    "df_passed = df[df[\"status_desc\"]==\"Passed\"]"
   ]
  },
  {
   "cell_type": "code",
   "execution_count": null,
   "id": "24c77fa9",
   "metadata": {},
   "outputs": [],
   "source": [
    "bill_id_filtered = df_passed[df_passed[\"document_desc\"] != \"Draft\"]\n",
    "bill_id_uniques = bill_id_filtered.drop_duplicates(subset=\"bill_id\")\n",
    "bill_id_uniques.shape"
   ]
  },
  {
   "cell_type": "code",
   "execution_count": null,
   "id": "17585602",
   "metadata": {},
   "outputs": [],
   "source": [
    "# Assuming data is your dataset or series\n",
    "bins = [0, 10783, 34503, 97436, 1000000, 249303177]  # Example data based on quartile values\n",
    "\n",
    "# Define bin labels (optional)\n",
    "bin_labels = [\"Small\", \"Medium\", \"Large\", \"Extra-Large\", \"Megabill\"]\n",
    "\n",
    "\n",
    "# Add a column named \"Salary Level\" to people_df and slice the data into the bins\n",
    "bill_id_uniques[\"bill_sizes\"] = pd.cut(bill_id_uniques[\"document_size\"], bins, labels=bin_labels)\n"
   ]
  },
  {
   "cell_type": "code",
   "execution_count": null,
   "id": "17029222",
   "metadata": {},
   "outputs": [],
   "source": [
    "bill_id_uniques.groupby(\"bill_sizes\")[\"document_size\"].sum().plot.bar()"
   ]
  },
  {
   "cell_type": "code",
   "execution_count": null,
   "id": "c980bb6c",
   "metadata": {},
   "outputs": [],
   "source": []
  }
 ],
 "metadata": {
  "kernelspec": {
   "display_name": "Python 3 (ipykernel)",
   "language": "python",
   "name": "python3"
  },
  "language_info": {
   "codemirror_mode": {
    "name": "ipython",
    "version": 3
   },
   "file_extension": ".py",
   "mimetype": "text/x-python",
   "name": "python",
   "nbconvert_exporter": "python",
   "pygments_lexer": "ipython3",
   "version": "3.10.13"
  }
 },
 "nbformat": 4,
 "nbformat_minor": 5
}
